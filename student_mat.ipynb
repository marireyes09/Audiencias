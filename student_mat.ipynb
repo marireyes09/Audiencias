{
 "cells": [
  {
   "cell_type": "markdown",
   "id": "1a58b69a",
   "metadata": {},
   "source": [
    "# El consumo de alcohol en los estudiantes.\n",
    "#### María de los Reyes Roldán López"
   ]
  },
  {
   "cell_type": "markdown",
   "id": "f994e0e9",
   "metadata": {},
   "source": [
    "## Introducción"
   ]
  },
  {
   "cell_type": "markdown",
   "id": "033ea6f5",
   "metadata": {},
   "source": [
    "Los datos fueron obtenidos en una encuesta de estudiantes de matemáticas y cursos de lengua portuguesa en la escuela secundaria. El objetivo principal de este proyecto es analizar las correlación de factores como el tiempo de estudio y las relaciones familiares con el consumo de alcohol en estudiantes, aunque también se abordan interrelaciones entre otros factores. Contiene mucha información social, de género y de estudio interesante sobre los estudiantes."
   ]
  },
  {
   "cell_type": "markdown",
   "id": "3abb6239",
   "metadata": {},
   "source": [
    "## Contenido \n",
    "\n",
    "Atributos para los conjuntos de datos student-mat.csv (curso de matemáticas) y student-por.csv (curso de portugués):\n",
    "\n",
    "1. <code>school</code> - escuela del estudiante (binario: 'GP' - Gabriel Pereira o 'MS' - Mousinho da Silveira)\n",
    "\n",
    "2. <code>sex</code> - sexo del estudiante (binario: 'F' - femenino o 'M' - masculino)\n",
    "\n",
    "3. <code>age</code> - edad del estudiante (numérico: de 15 a 22)\n",
    "\n",
    "6. <code>Pstatus</code> - estado de cohabitación de los padres (binario: 'T' - viviendo juntos o 'A' - separados)\n",
    "\n",
    "8. <code>studytime</code> - tiempo de estudio semanal (numérico: 1 - <2 horas, 2 - 2 a 5 horas, 3 - 5 a 10 horas, o 4 - >10 horas)\n",
    "\n",
    "9. <code>famsup</code> - apoyo educativo familiar (binario: si o no)\n",
    "\n",
    "10. <code>romantic</code> - con una relación romántica (binario: sí o no)\n",
    "\n",
    "11. <code>famrel</code> - calidad de las relaciones familiares (numérico: de 1 - muy mala a 5 - excelente)\n",
    "\n",
    "12. <code>freetime</code> - tiempo libre después de la escuela (numérico: de 1 - muy bajo a 5 - muy alto)\n",
    "\n",
    "13. <code>goout</code> - salir con amigos (numérico: de 1 - muy bajo a 5 - muy alto)\n",
    "\n",
    "14. <code>Dalc</code> - consumo de alcohol en jornada laboral (numérico: de 1 - muy bajo a 5 - muy alto)\n",
    "\n",
    "15. <code>Walc</code> - consumo de alcohol en fin de semana (numérico: de 1 - muy bajo a 5 - muy alto)\n",
    "\n",
    "16. <code>health</code> - estado de salud actual (numérico: de 1 - muy malo a 5 - muy bueno)\n",
    "\n",
    "\n",
    "Estas calificaciones están relacionadas con la materia del curso, Matemáticas o Portugués:\n",
    "\n",
    "17. <code>G1</code> - nota del primer período (numérico: de 0 a 20)\n",
    "18. <code>G2</code> - calificación del segundo período (numérico: de 0 a 20)\n",
    "19. <code>G3</code> - calificación final (numérica: de 0 a 20, objetivo de salida)"
   ]
  },
  {
   "cell_type": "markdown",
   "id": "ac9e0220",
   "metadata": {},
   "source": [
    "Debemos importar módulos de la librería estandar, y un único paquete externo (matplotlib):"
   ]
  },
  {
   "cell_type": "code",
   "execution_count": 1,
   "id": "b0b9a77d",
   "metadata": {},
   "outputs": [],
   "source": [
    "import csv\n",
    "from matplotlib import pyplot as plt\n",
    "from collections import namedtuple, Counter, defaultdict"
   ]
  },
  {
   "cell_type": "code",
   "execution_count": 2,
   "id": "77868e08",
   "metadata": {},
   "outputs": [
    {
     "name": "stdout",
     "output_type": "stream",
     "text": [
      "    school sex  age famsize Pstatus  studytime famsup romantic  famrel  \\\n",
      "0       GP   F   18     GT3       A          2     no       no       4   \n",
      "1       GP   F   17     GT3       T          2    yes       no       5   \n",
      "2       GP   F   15     LE3       T          2     no       no       4   \n",
      "3       GP   F   15     GT3       T          3    yes      yes       3   \n",
      "4       GP   F   16     GT3       T          2    yes       no       4   \n",
      "..     ...  ..  ...     ...     ...        ...    ...      ...     ...   \n",
      "144     GP   M   17     GT3       T          1    yes       no       5   \n",
      "145     GP   F   15     GT3       T          2    yes       no       4   \n",
      "146     GP   F   15     GT3       T          2    yes       no       3   \n",
      "147     GP   F   15     GT3       T          2    yes       no       4   \n",
      "148     GP   M   16     GT3       T          1    yes      yes       3   \n",
      "\n",
      "     freetime  goout  Dalc  Walc  health  G1  G2  G3  \n",
      "0           3      4     1     1       3   5   6   6  \n",
      "1           3      3     1     1       3   5   5   6  \n",
      "2           3      2     2     3       3   7   8  10  \n",
      "3           2      2     1     1       5  15  14  15  \n",
      "4           3      2     1     2       5   6  10  10  \n",
      "..        ...    ...   ...   ...     ...  ..  ..  ..  \n",
      "144         4      5     1     2       5   5   0   0  \n",
      "145         4      2     1     2       5   8  11  11  \n",
      "146         3      2     1     1       3   6   7   0  \n",
      "147         3      2     1     1       5  10  11  11  \n",
      "148         3      2     2     1       5   7   6   0  \n",
      "\n",
      "[149 rows x 17 columns]\n"
     ]
    }
   ],
   "source": [
    "import pandas as pd\n",
    "data = pd.read_csv('studentmat - studentmat.csv')\n",
    "print (data)"
   ]
  },
  {
   "cell_type": "markdown",
   "id": "47722eef",
   "metadata": {},
   "source": [
    "### Función de lectura de texto.\n",
    "Abriremos el fichero en modo texto, así es posible leer todo el contenido y guardarlo en una variable de tipo cadena mediante el método read:"
   ]
  },
  {
   "cell_type": "code",
   "execution_count": 3,
   "id": "754b5d63",
   "metadata": {},
   "outputs": [
    {
     "name": "stdout",
     "output_type": "stream",
     "text": [
      "school,sex,age,famsize,Pstatus,studytime,famsup,romantic,famrel,freetime,goout,Dalc,Walc,health,G1,G2,G3\n",
      "\n",
      "GP,F,18,GT3,A,2,no,no,4,3,4,1,1,3,5,6,6\n",
      "\n",
      "GP,F,17,GT3,T,2,yes,no,5,3,3,1,1,3,5,5,6\n",
      "\n",
      "GP,F,15,LE3,T,2,no,no,4,3,2,2,3,3,7,8,10\n",
      "\n",
      "GP,F,15,GT3,T,3,yes,yes,3,2,2,1,1,5,15,14,15\n",
      "\n",
      "GP,F,16,GT3,T,2,yes,no,4,3,2,1,2,5,6,10,10\n",
      "\n",
      "GP,M,16,LE3,T,2,yes,no,5,4,2,1,2,5,15,15,15\n",
      "\n",
      "GP,M,16,LE3,T,2,no,no,4,4,4,1,1,3,12,12,11\n",
      "\n",
      "GP,F,17,GT3,A,2,yes,no,4,1,4,1,1,1,6,5,6\n",
      "\n",
      "GP,M,15,LE3,A,2,yes,no,4,2,2,1,1,1,16,18,19\n",
      "\n",
      "GP,M,15,GT3,T,2,yes,no,5,5,1,1,1,5,14,15,15\n",
      "\n",
      "GP,F,15,GT3,T,2,yes,no,3,3,3,1,2,2,10,8,9\n",
      "\n",
      "GP,F,15,GT3,T,3,yes,no,5,2,2,1,1,4,10,12,12\n",
      "\n",
      "GP,M,15,LE3,T,1,yes,no,4,3,3,1,3,5,14,14,14\n",
      "\n",
      "GP,M,15,GT3,T,2,yes,no,5,4,3,1,2,3,10,10,11\n",
      "\n",
      "GP,M,15,GT3,A,3,yes,yes,4,5,2,1,1,3,14,16,16\n",
      "\n",
      "GP,F,16,GT3,T,1,yes,no,4,4,4,1,2,2,14,14,14\n",
      "\n",
      "GP,F,16,GT3,T,3,yes,no,3,2,3,1,2,2,13,14,14\n",
      "\n",
      "GP,F,16,GT3,T,2,yes,no,5,3,2,1,1,4,8,10,10\n",
      "\n",
      "GP,M,17,GT3,T,1,yes,no,5,5,5,2,4,5,6,5,5\n",
      "\n",
      "GP,M,16,LE3,T,1,no,no,3,1,3,1,3,5,8,10,10\n",
      "\n",
      "GP,M,15,GT3,T,2,no,no,4,4,1,1,1,1,13,14,15\n",
      "\n",
      "GP,M,15,GT3,T,1,yes,no,5,4,2,1,1,5,12,15,15\n",
      "\n",
      "GP,M,16,LE3,T,2,no,no,4,5,1,1,3,5,15,15,16\n",
      "\n",
      "GP,M,16,LE3,T,2,yes,no,5,4,4,2,4,5,13,13,12\n",
      "\n",
      "GP,F,15,GT3,T,3,yes,no,4,3,2,1,1,5,10,9,8\n",
      "\n",
      "GP,F,16,GT3,T,1,yes,no,1,2,2,1,3,5,6,9,8\n",
      "\n",
      "GP,M,15,GT3,T,1,yes,no,4,2,2,1,2,5,12,12,11\n",
      "\n",
      "GP,M,15,GT3,T,1,no,no,2,2,4,2,4,1,15,16,15\n",
      "\n",
      "GP,M,16,LE3,A,2,yes,no,5,3,3,1,1,5,11,11,11\n",
      "\n",
      "GP,M,16,GT3,T,2,yes,yes,4,4,5,5,5,5,10,12,11\n",
      "\n",
      "GP,M,15,GT3,T,2,yes,no,5,4,2,3,4,5,9,11,12\n",
      "\n",
      "GP,M,15,GT3,T,2,yes,no,4,3,1,1,1,5,17,16,17\n",
      "\n",
      "GP,M,15,GT3,T,2,yes,yes,4,5,2,1,1,5,17,16,16\n",
      "\n",
      "GP,M,15,LE3,T,2,no,no,5,3,2,1,1,2,8,10,12\n",
      "\n",
      "GP,M,16,GT3,T,1,yes,no,5,4,3,1,1,5,12,14,15\n",
      "\n",
      "GP,F,15,GT3,T,1,yes,no,3,5,1,1,1,5,8,7,6\n",
      "\n",
      "GP,M,15,LE3,T,3,yes,no,5,4,3,1,1,4,15,16,18\n",
      "\n",
      "GP,M,16,GT3,A,3,yes,yes,2,4,3,1,1,5,15,16,15\n",
      "\n",
      "GP,F,15,GT3,T,3,yes,no,4,3,2,1,1,5,12,12,11\n",
      "\n",
      "GP,F,15,GT3,T,1,yes,no,4,3,1,1,1,2,14,13,13\n",
      "\n",
      "GP,F,16,LE3,T,2,yes,yes,3,3,3,1,2,3,7,10,11\n",
      "\n",
      "GP,M,15,LE3,T,1,yes,yes,5,4,3,2,4,5,12,12,12\n",
      "\n",
      "GP,M,15,GT3,T,2,yes,no,4,3,3,1,1,5,19,18,18\n",
      "\n",
      "GP,M,15,GT3,T,1,yes,no,5,4,1,1,1,1,8,8,11\n",
      "\n",
      "GP,F,16,LE3,T,2,no,no,4,3,3,2,2,5,10,10,9\n",
      "\n",
      "GP,F,15,LE3,A,2,yes,yes,5,2,2,1,1,5,8,8,6\n",
      "\n",
      "GP,F,16,LE3,A,2,yes,no,2,3,5,1,4,3,11,12,11\n",
      "\n",
      "GP,M,16,GT3,T,4,no,no,4,2,2,1,1,2,19,19,20\n",
      "\n",
      "GP,M,15,GT3,T,2,yes,no,4,3,3,2,2,5,15,15,14\n",
      "\n",
      "GP,F,15,GT3,T,2,yes,no,4,4,4,1,1,3,7,7,7\n",
      "\n",
      "GP,F,16,LE3,T,2,yes,no,4,3,3,2,3,4,12,13,13\n",
      "\n",
      "GP,F,15,LE3,T,2,yes,no,4,3,3,1,1,5,11,13,13\n",
      "\n",
      "GP,M,15,LE3,A,1,no,no,5,5,5,3,4,5,11,11,10\n",
      "\n",
      "GP,F,15,GT3,T,1,yes,no,3,3,4,2,3,5,8,10,11\n",
      "\n",
      "GP,F,15,LE3,A,1,no,no,5,3,4,4,4,1,10,13,13\n",
      "\n",
      "GP,F,16,GT3,A,2,no,yes,5,3,4,1,1,2,8,9,10\n",
      "\n",
      "GP,F,15,GT3,A,2,yes,no,4,3,2,1,1,1,14,15,15\n",
      "\n",
      "GP,M,15,GT3,T,2,yes,no,3,2,2,1,1,5,14,15,15\n",
      "\n",
      "GP,M,15,LE3,T,2,yes,no,4,3,2,1,1,5,9,10,9\n",
      "\n",
      "GP,F,16,GT3,T,2,yes,no,4,2,3,1,1,5,15,16,16\n",
      "\n",
      "GP,F,16,GT3,T,2,yes,no,2,4,4,2,3,4,10,11,11\n",
      "\n",
      "GP,F,16,GT3,T,1,yes,yes,5,5,5,5,5,5,10,8,11\n",
      "\n",
      "GP,F,16,LE3,T,2,no,no,4,4,3,1,1,1,8,10,9\n",
      "\n",
      "GP,F,16,GT3,T,3,yes,no,3,4,4,2,4,4,10,9,9\n",
      "\n",
      "GP,F,15,LE3,T,2,no,yes,4,4,4,2,4,2,10,10,10\n",
      "\n",
      "GP,F,16,LE3,T,2,yes,no,5,4,3,1,2,1,16,15,15\n",
      "\n",
      "GP,M,15,GT3,A,4,yes,yes,1,3,3,5,5,3,13,13,12\n",
      "\n",
      "GP,F,16,GT3,T,4,yes,no,4,3,3,1,2,5,7,7,6\n",
      "\n",
      "GP,F,15,LE3,T,2,yes,no,4,1,3,1,3,4,8,9,8\n",
      "\n",
      "GP,F,15,LE3,T,4,yes,no,4,4,2,2,3,3,16,16,16\n",
      "\n",
      "GP,M,16,GT3,T,4,yes,no,4,3,2,1,1,5,13,15,15\n",
      "\n",
      "GP,M,15,GT3,T,4,no,no,3,3,3,1,1,3,10,10,10\n",
      "\n",
      "GP,F,15,GT3,T,2,yes,yes,3,3,4,2,4,5,8,6,5\n",
      "\n",
      "GP,M,16,GT3,T,1,no,no,5,3,2,2,2,5,12,12,14\n",
      "\n",
      "GP,F,16,GT3,T,2,yes,no,4,3,3,2,4,5,11,12,11\n",
      "\n",
      "GP,M,15,GT3,T,2,yes,no,4,3,3,2,3,5,9,9,10\n",
      "\n",
      "GP,M,15,GT3,T,4,no,no,3,4,3,1,1,1,11,11,10\n",
      "\n",
      "GP,F,16,GT3,T,4,no,yes,5,2,3,1,3,3,11,11,11\n",
      "\n",
      "GP,M,17,GT3,T,1,yes,no,4,5,1,1,1,3,8,8,10\n",
      "\n",
      "GP,F,16,GT3,T,2,yes,no,2,4,3,1,2,3,5,5,5\n",
      "\n",
      "GP,M,15,GT3,T,1,yes,yes,3,2,2,1,3,3,10,12,12\n",
      "\n",
      "GP,M,15,GT3,T,3,no,no,5,3,2,1,2,5,11,10,11\n",
      "\n",
      "GP,F,15,LE3,T,2,yes,no,4,4,4,1,1,5,7,6,6\n",
      "\n",
      "GP,M,15,LE3,T,2,no,no,5,3,3,1,3,4,15,15,15\n",
      "\n",
      "GP,F,15,GT3,T,2,yes,no,4,3,2,2,3,4,9,10,10\n",
      "\n",
      "GP,F,15,GT3,T,2,no,yes,4,4,4,2,3,5,7,9,8\n",
      "\n",
      "GP,F,16,LE3,T,2,yes,no,4,3,4,1,2,2,8,7,6\n",
      "\n",
      "GP,F,15,GT3,T,3,yes,no,5,3,3,1,3,1,13,14,14\n",
      "\n",
      "GP,M,16,GT3,T,2,no,no,4,4,2,1,1,3,11,10,10\n",
      "\n",
      "GP,M,16,LE3,A,2,yes,no,4,1,3,3,5,5,8,6,7\n",
      "\n",
      "GP,F,16,GT3,T,3,yes,yes,4,3,3,1,3,4,7,7,8\n",
      "\n",
      "GP,F,15,GT3,T,1,no,no,4,5,5,1,3,1,16,17,18\n",
      "\n",
      "GP,F,16,LE3,T,2,yes,no,3,3,3,2,3,2,7,6,6\n",
      "\n",
      "GP,F,16,GT3,T,2,yes,no,5,3,3,1,1,1,11,10,10\n",
      "\n",
      "GP,M,15,LE3,T,4,yes,no,4,3,4,1,1,4,11,13,14\n",
      "\n",
      "GP,F,15,GT3,T,4,yes,no,3,1,2,1,1,1,7,10,10\n",
      "\n",
      "GP,M,16,GT3,T,1,yes,no,3,3,3,1,1,4,11,15,15\n",
      "\n",
      "GP,F,16,GT3,T,2,yes,yes,4,3,5,1,1,5,8,9,10\n",
      "\n",
      "GP,F,16,GT3,T,1,no,no,5,3,4,1,2,1,11,14,14\n",
      "\n",
      "GP,F,16,GT3,T,3,yes,no,5,3,5,1,1,3,7,9,8\n",
      "\n",
      "GP,M,16,GT3,T,1,yes,no,4,5,5,5,5,4,7,7,5\n",
      "\n",
      "GP,M,16,GT3,T,3,yes,yes,4,4,3,1,1,4,16,17,17\n",
      "\n",
      "GP,M,15,GT3,T,1,yes,no,5,3,3,1,1,5,10,13,14\n",
      "\n",
      "GP,F,15,GT3,T,2,yes,no,4,3,5,1,1,2,7,6,6\n",
      "\n",
      "GP,M,15,GT3,A,2,yes,no,5,4,4,1,1,1,16,18,18\n",
      "\n",
      "GP,F,15,GT3,A,4,no,no,4,3,3,1,1,4,10,11,11\n",
      "\n",
      "GP,F,15,GT3,T,4,yes,no,5,1,2,1,1,3,7,8,8\n",
      "\n",
      "GP,M,16,GT3,T,3,yes,no,5,3,3,1,1,5,16,18,18\n",
      "\n",
      "GP,M,15,GT3,T,4,yes,yes,1,3,5,3,5,1,10,13,13\n",
      "\n",
      "GP,F,16,LE3,T,3,yes,yes,5,4,5,1,1,4,14,15,16\n",
      "\n",
      "GP,M,15,LE3,A,1,no,no,5,5,3,1,1,4,18,19,19\n",
      "\n",
      "GP,F,16,GT3,T,3,yes,no,4,1,2,1,1,2,7,10,10\n",
      "\n",
      "GP,F,16,GT3,T,2,no,no,3,1,2,1,1,5,10,13,13\n",
      "\n",
      "GP,M,15,LE3,T,1,no,no,3,5,2,1,1,3,18,19,19\n",
      "\n",
      "GP,M,15,GT3,T,2,no,yes,5,4,2,1,1,5,9,9,9\n",
      "\n",
      "GP,M,16,GT3,T,2,yes,no,5,4,4,1,2,5,15,15,16\n",
      "\n",
      "GP,M,15,GT3,T,2,yes,no,4,4,3,1,1,2,11,13,14\n",
      "\n",
      "GP,M,16,GT3,T,1,no,no,5,4,2,1,1,5,13,14,13\n",
      "\n",
      "GP,M,17,GT3,T,2,yes,no,5,2,4,1,4,5,9,7,8\n",
      "\n",
      "GP,M,15,GT3,T,1,no,no,3,4,3,1,2,4,14,13,13\n",
      "\n",
      "GP,F,15,GT3,T,2,no,no,3,2,3,1,2,1,16,15,15\n",
      "\n",
      "GP,M,15,GT3,T,4,yes,no,5,5,4,1,2,5,16,14,15\n",
      "\n",
      "GP,F,16,LE3,T,2,yes,yes,4,2,2,1,2,5,13,13,13\n",
      "\n",
      "GP,M,16,GT3,T,1,yes,no,3,4,4,1,4,5,14,11,13\n",
      "\n",
      "GP,F,16,GT3,T,2,no,yes,5,4,4,1,1,5,8,7,8\n",
      "\n",
      "GP,M,15,GT3,T,1,no,no,5,5,5,3,2,5,13,13,12\n",
      "\n",
      "GP,F,15,LE3,A,2,no,yes,5,3,2,1,1,1,7,10,11\n",
      "\n",
      "GP,F,19,GT3,T,2,yes,no,3,4,2,1,1,5,7,8,9\n",
      "\n",
      "GP,M,18,GT3,T,1,yes,no,3,3,3,1,2,4,7,4,0\n",
      "\n",
      "GP,M,16,GT3,T,1,no,no,3,5,5,2,5,4,18,18,18\n",
      "\n",
      "GP,F,15,GT3,T,3,yes,yes,4,2,2,2,2,5,12,0,0\n",
      "\n",
      "GP,F,15,GT3,T,1,yes,yes,4,3,3,1,2,4,8,0,0\n",
      "\n",
      "GP,F,17,LE3,T,1,yes,yes,3,4,4,1,3,5,10,13,12\n",
      "\n",
      "GP,F,16,GT3,A,1,no,no,3,2,1,1,4,5,12,11,11\n",
      "\n",
      "GP,M,15,GT3,T,2,yes,yes,5,3,3,1,1,5,9,0,0\n",
      "\n",
      "GP,F,15,GT3,T,3,yes,yes,4,3,3,1,1,5,11,0,0\n",
      "\n",
      "GP,M,17,GT3,T,2,no,no,5,4,5,2,4,5,10,0,0\n",
      "\n",
      "GP,F,16,GT3,A,1,yes,yes,4,3,2,1,1,5,4,0,0\n",
      "\n",
      "GP,M,16,LE3,T,2,no,yes,4,4,4,1,3,5,14,12,12\n",
      "\n",
      "GP,F,15,GT3,T,1,no,no,4,3,2,1,1,5,16,16,15\n",
      "\n",
      "GP,M,15,GT3,T,4,yes,no,2,2,2,1,1,3,7,9,0\n",
      "\n",
      "GP,M,16,LE3,T,1,yes,no,2,3,3,2,2,2,9,9,9\n",
      "\n",
      "GP,F,15,GT3,T,3,yes,no,4,2,2,1,1,5,9,11,11\n",
      "\n",
      "GP,F,16,LE3,T,1,no,no,3,4,4,3,3,1,14,14,13\n",
      "\n",
      "GP,M,17,GT3,T,1,yes,no,5,4,5,1,2,5,5,0,0\n",
      "\n",
      "GP,F,15,GT3,T,2,yes,no,4,4,2,1,2,5,8,11,11\n",
      "\n",
      "GP,F,15,GT3,T,2,yes,no,3,3,2,1,1,3,6,7,0\n",
      "\n",
      "GP,F,15,GT3,T,2,yes,no,4,3,2,1,1,5,10,11,11\n",
      "\n",
      "GP,M,16,GT3,T,1,yes,yes,3,3,2,2,1,5,7,6,0\n"
     ]
    }
   ],
   "source": [
    "with open('studentmat2.txt', encoding='utf-8') as f:\n",
    "    for linea in f:\n",
    "        print(linea)"
   ]
  },
  {
   "cell_type": "markdown",
   "id": "053282c9",
   "metadata": {},
   "source": [
    "Se puede observar cada línea separada por una línea vacía, esto se debe a que hemos usado el descriptor del fichero dentro de un bucle for, como si se tratara de una secuencia de cadenas, de manera que en cada paso del bucle obtendremos la siguiente línea del fichero."
   ]
  },
  {
   "cell_type": "markdown",
   "id": "da3578cc",
   "metadata": {},
   "source": [
    "La siguiente función será la encargada de leer el fichero de entrada, y construir a partir de él una estructura de datos en memoria."
   ]
  },
  {
   "cell_type": "code",
   "execution_count": 4,
   "id": "60b84ecf",
   "metadata": {},
   "outputs": [],
   "source": [
    "Estudiante = namedtuple('Estudiante', 'school sex age famsize Pstatus studytime famsup romantic famrel freetime goout Dalc Walc health G1 G2 G3')\n",
    "def lee_estudiantes(fichero):\n",
    "    with open(fichero, encoding='utf-8') as f:\n",
    "        # Se crea un objeto lector (un iterator) que separará los valores por comas\n",
    "        lector = csv.reader(f)\n",
    "        next(lector) \n",
    "        # Lista por comprensión sobre el objeto lector\n",
    "        l_estudiantes = [Estudiante(str(school), str(sex), int(age), str(famsize), str(Pstatus), int(studytime), str(famsup), str(romantic), int(famrel), int(freetime), int(goout), int(Dalc), int(Walc), int(health), int(G1), int(G2), int(G3)) for school, sex, age, famsize, Pstatus, studytime, famsup, romantic, famrel, freetime, goout, Dalc, Walc, health, G1, G2, G3 in lector]\n",
    "        return l_estudiantes"
   ]
  },
  {
   "cell_type": "code",
   "execution_count": 5,
   "id": "bd6b1cd1",
   "metadata": {
    "scrolled": true
   },
   "outputs": [
    {
     "name": "stdout",
     "output_type": "stream",
     "text": [
      "149\n",
      "[Estudiante(school='GP', sex='F', age=18, famsize='GT3', Pstatus='A', studytime=2, famsup='no', romantic='no', famrel=4, freetime=3, goout=4, Dalc=1, Walc=1, health=3, G1=5, G2=6, G3=6), Estudiante(school='GP', sex='F', age=17, famsize='GT3', Pstatus='T', studytime=2, famsup='yes', romantic='no', famrel=5, freetime=3, goout=3, Dalc=1, Walc=1, health=3, G1=5, G2=5, G3=6), Estudiante(school='GP', sex='F', age=15, famsize='LE3', Pstatus='T', studytime=2, famsup='no', romantic='no', famrel=4, freetime=3, goout=2, Dalc=2, Walc=3, health=3, G1=7, G2=8, G3=10), Estudiante(school='GP', sex='F', age=15, famsize='GT3', Pstatus='T', studytime=3, famsup='yes', romantic='yes', famrel=3, freetime=2, goout=2, Dalc=1, Walc=1, health=5, G1=15, G2=14, G3=15), Estudiante(school='GP', sex='F', age=16, famsize='GT3', Pstatus='T', studytime=2, famsup='yes', romantic='no', famrel=4, freetime=3, goout=2, Dalc=1, Walc=2, health=5, G1=6, G2=10, G3=10), Estudiante(school='GP', sex='M', age=16, famsize='LE3', Pstatus='T', studytime=2, famsup='yes', romantic='no', famrel=5, freetime=4, goout=2, Dalc=1, Walc=2, health=5, G1=15, G2=15, G3=15), Estudiante(school='GP', sex='M', age=16, famsize='LE3', Pstatus='T', studytime=2, famsup='no', romantic='no', famrel=4, freetime=4, goout=4, Dalc=1, Walc=1, health=3, G1=12, G2=12, G3=11)]\n"
     ]
    }
   ],
   "source": [
    "# Test de la función lee_estudiantes\n",
    "ESTUDIANTES = lee_estudiantes('studentmat - studentmat.csv')\n",
    "print(len(ESTUDIANTES))\n",
    "print(ESTUDIANTES[:7])"
   ]
  },
  {
   "cell_type": "markdown",
   "id": "018c9c85",
   "metadata": {},
   "source": [
    "### Función de transformación."
   ]
  },
  {
   "cell_type": "markdown",
   "id": "14e0ea42",
   "metadata": {},
   "source": [
    "Una vez cargados los datos ya podremos trabajar con ellos. La primera función que realizaremos será la función <code>calcula_edades</code> de la cual obtendremos, a partir de los datos de entrada, una lista con todas las edades de los estudiantes. Las siguientes celdas contienen la implementación y el test, respectivamente, de esta función:"
   ]
  },
  {
   "cell_type": "code",
   "execution_count": 6,
   "id": "ec3d749e",
   "metadata": {},
   "outputs": [],
   "source": [
    "def calcula_edades(l_estudiantes):\n",
    "    ''' Calcula las edades presentes en una lista de estudiantes\n",
    "    \n",
    "    ENTRADA: \n",
    "       - l_estudiantes: lista de estudiantes -> [(str, str, int, str, str, int, str, str, int, int, int, int, int, int, int, int, int)]\n",
    "    SALIDA: \n",
    "       - lista de edades -> [int]\n",
    "\n",
    "    Toma como entrada una lista de tupla y produce como\n",
    "    salida una lista con todas las edades.\n",
    "    '''\n",
    "    # Calculamos el conjunto de ediciones presentes\n",
    "    edades = [e.age for e in ESTUDIANTES]\n",
    "    return edades"
   ]
  },
  {
   "cell_type": "code",
   "execution_count": 7,
   "id": "30660def",
   "metadata": {},
   "outputs": [
    {
     "name": "stdout",
     "output_type": "stream",
     "text": [
      "[18, 17, 15, 15, 16, 16, 16, 17, 15, 15, 15, 15, 15, 15, 15, 16, 16, 16, 17, 16, 15, 15, 16, 16, 15, 16, 15, 15, 16, 16, 15, 15, 15, 15, 16, 15, 15, 16, 15, 15, 16, 15, 15, 15, 16, 15, 16, 16, 15, 15, 16, 15, 15, 15, 15, 16, 15, 15, 15, 16, 16, 16, 16, 16, 15, 16, 15, 16, 15, 15, 16, 15, 15, 16, 16, 15, 15, 16, 17, 16, 15, 15, 15, 15, 15, 15, 16, 15, 16, 16, 16, 15, 16, 16, 15, 15, 16, 16, 16, 16, 16, 16, 15, 15, 15, 15, 15, 16, 15, 16, 15, 16, 16, 15, 15, 16, 15, 16, 17, 15, 15, 15, 16, 16, 16, 15, 15, 19, 18, 16, 15, 15, 17, 16, 15, 15, 17, 16, 16, 15, 15, 16, 15, 16, 17, 15, 15, 15, 16]\n"
     ]
    }
   ],
   "source": [
    "# Test de la función calcula_ediciones\n",
    "edades = calcula_edades(ESTUDIANTES)\n",
    "print(edades)"
   ]
  },
  {
   "cell_type": "markdown",
   "id": "c23f6b58",
   "metadata": {},
   "source": [
    "La segunda de las funciones, <code>media_por_edades</code>, es una función de _transformación_. Se encargará de calcular la media de edades de los estudiantes registrados. "
   ]
  },
  {
   "cell_type": "code",
   "execution_count": 8,
   "id": "7c12b829",
   "metadata": {},
   "outputs": [],
   "source": [
    "def medias_por_edades(l_estudiantes):\n",
    "    ''' Calcula la media de edades de estudiantes.\n",
    "    \n",
    "    ENTRADA: \n",
    "       - l_estudiantes: lista de estudiantes -> [(str, str, int, str, str, int, str, str, int, int, int, int, int, int, int, int, int)]\n",
    "    SALIDA:\n",
    "       - medias de edades de estudiantes -> float\n",
    "\n",
    "    Toma como entrada una lista de tuplas y produce como\n",
    "    salida la media de las edades de los estudiantes .\n",
    "    '''\n",
    "    medias = sum(edades)/len(edades)\n",
    "    return medias\n"
   ]
  },
  {
   "cell_type": "code",
   "execution_count": 9,
   "id": "fb6ab8b8",
   "metadata": {},
   "outputs": [
    {
     "name": "stdout",
     "output_type": "stream",
     "text": [
      "La media de edad de estudiantes es 15.577181208053691\n"
     ]
    }
   ],
   "source": [
    "# Test de la función medias_por_edades\n",
    "medias = medias_por_edades(ESTUDIANTES)\n",
    "print(\"La media de edad de estudiantes es\", medias)"
   ]
  },
  {
   "cell_type": "markdown",
   "id": "b1abaa90",
   "metadata": {},
   "source": [
    "### Función de filtrado."
   ]
  },
  {
   "cell_type": "markdown",
   "id": "9ad3cd95",
   "metadata": {},
   "source": [
    "La siguiente función se llama <code>filtra_por_calificacion_final</code>. Toma una lista de estudiantes, y un rango de valores para la calificación final. Deberá seleccionar solamente aquellos estudiantes cuya calificación esté dentro del rango. El rango se especificará con un valor mínimo y un valor máximo. Pudiéndose omitirse cualquiera de estos dos límites haciendo uso del valor por defecto <code>None</code>."
   ]
  },
  {
   "cell_type": "code",
   "execution_count": 10,
   "id": "f6e0f8fe",
   "metadata": {},
   "outputs": [],
   "source": [
    "def filtra_por_calificacion_final(l_estudiantes, minimo=None, maximo=None):\n",
    "    if minimo is None:\n",
    "        minimo = 0\n",
    "    if maximo is None:\n",
    "        maximo = max(e.G3 for e in ESTUDIANTES)\n",
    "    calificaciones = [e.G3 for e in ESTUDIANTES if minimo<=e.G3<=maximo]\n",
    "    contador_calificaciones = Counter(calificaciones)\n",
    "    calificaciones = dict(contador_calificaciones)\n",
    "    return (calificaciones)"
   ]
  },
  {
   "cell_type": "code",
   "execution_count": 11,
   "id": "569e2013",
   "metadata": {},
   "outputs": [
    {
     "name": "stdout",
     "output_type": "stream",
     "text": [
      "{6: 10, 10: 17, 15: 17, 11: 21, 19: 3, 9: 8, 12: 10, 14: 10, 16: 7, 5: 4, 8: 9, 17: 2, 18: 6, 13: 11, 20: 1, 7: 2, 0: 11}\n",
      "{6: 10, 10: 17, 9: 8, 5: 4, 8: 9, 7: 2}\n",
      "{10: 17, 15: 17, 11: 21, 12: 10, 14: 10, 13: 11}\n"
     ]
    }
   ],
   "source": [
    "print(filtra_por_calificacion_final(ESTUDIANTES))\n",
    "print(filtra_por_calificacion_final(ESTUDIANTES, 5, 10))\n",
    "print(filtra_por_calificacion_final(ESTUDIANTES, 10, 15))"
   ]
  },
  {
   "cell_type": "markdown",
   "id": "180e6704",
   "metadata": {},
   "source": [
    "### Función de agrupación.\n",
    "La siguiente función se llama <code>tiempo_de_estudio_por_sexo</code>. Toma como entrada una lista de estudiantes y produce como salida un diccionario cuyas claves son el sexo del estudiante (masculino o femenino) y los valores son el tiempo de estudio medio por sexo."
   ]
  },
  {
   "cell_type": "code",
   "execution_count": 12,
   "id": "19884538",
   "metadata": {},
   "outputs": [],
   "source": [
    "def tiempo_de_estudio_por_sexo(l_estudiantes):\n",
    "    \n",
    "    ''' Crea un diccionario con el tiempo de estudio medio por sexo\n",
    "    \n",
    "    ENTRADA:\n",
    "       - l_restudiantes: lista de estudiantes -> [(str, str, int, str, str, int, str, str, int, int, int, int, int, int, int, int, int)]\n",
    "    SALIDA:\n",
    "       - diccionario con el tiempo de estudio medio en función del sexo -> {str: float}\n",
    "    '''\n",
    "    \n",
    "    sexos={e.sex for e in ESTUDIANTES}\n",
    "    tiempo_medio = dict()\n",
    "    for t in sexos:\n",
    "        tiempo = [e.studytime for e in ESTUDIANTES if e.sex == t] #agrupación + agregación\n",
    "        tiempo_medio[t]=sum(tiempo)/len(tiempo)\n",
    "    return (tiempo_medio)"
   ]
  },
  {
   "cell_type": "code",
   "execution_count": 13,
   "id": "1f70719b",
   "metadata": {},
   "outputs": [
    {
     "name": "stdout",
     "output_type": "stream",
     "text": [
      "El tiempo de estudio medio de estudiantes por sexo es {'F': 2.142857142857143, 'M': 1.9583333333333333}\n"
     ]
    }
   ],
   "source": [
    "print (\"El tiempo de estudio medio de estudiantes por sexo es\", tiempo_de_estudio_por_sexo(ESTUDIANTES))"
   ]
  },
  {
   "cell_type": "markdown",
   "id": "966dd5f0",
   "metadata": {},
   "source": [
    "### Función de visualización.\n",
    "La función de visualización que implementaremos será <code>muestra_calificaciones_medias_por_genero</code>. Toma como entrada una lista de estudiantes, y genera un diagrama de barras en el que se muestra la calificacion media para cada sexo (masculino y femenino) presente en el conjunto de datos."
   ]
  },
  {
   "cell_type": "code",
   "execution_count": 15,
   "id": "0ade566f",
   "metadata": {},
   "outputs": [],
   "source": [
    "def muestra_calificaciones_medias_por_genero(l_estudiantes):\n",
    "    titulo = 'Calificaciones medias por género'\n",
    "    generos = sorted(set(e.sex for e in ESTUDIANTES))\n",
    "    \n",
    "    calificaciones = defaultdict(list)\n",
    "    for e in ESTUDIANTES:\n",
    "        calificaciones[e.sex].append(e.G3)\n",
    "    for genero in calificaciones:\n",
    "        valores = calificaciones[genero]\n",
    "        calificaciones[genero] = sum(valores)/len(valores)\n",
    "        calificaciones_medias = [calificaciones[genero] for genero in generos]\n",
    "    plt.title(titulo)\n",
    "    plt.bar(generos, calificaciones_medias)\n",
    "    plt.show()\n",
    "    "
   ]
  },
  {
   "cell_type": "code",
   "execution_count": 16,
   "id": "b0638e97",
   "metadata": {},
   "outputs": [
    {
     "data": {
      "image/png": "[encoded data removed]",
      "text/plain": [
       "<Figure size 432x288 with 1 Axes>"
      ]
     },
     "metadata": {
      "needs_background": "light"
     },
     "output_type": "display_data"
    }
   ],
   "source": [
    "muestra_calificaciones_medias_por_genero(ESTUDIANTES)"
   ]
  },
  {
   "cell_type": "code",
   "execution_count": null,
   "id": "e922d632",
   "metadata": {},
   "outputs": [],
   "source": []
  }
 ],
 "metadata": {
  "kernelspec": {
   "display_name": "Python 3 (ipykernel)",
   "language": "python",
   "name": "python3"
  },
  "language_info": {
   "codemirror_mode": {
    "name": "ipython",
    "version": 3
   },
   "file_extension": ".py",
   "mimetype": "text/x-python",
   "name": "python",
   "nbconvert_exporter": "python",
   "pygments_lexer": "ipython3",
   "version": "3.9.12"
  }
 },
 "nbformat": 4,
 "nbformat_minor": 5
}
